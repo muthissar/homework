{
 "cells": [
  {
   "cell_type": "markdown",
   "metadata": {},
   "source": [
    "This notebook is written by Mathias Rose Bjare (s113038@student.dtu.dk) and  answears Deep RL Assignment 1, http://rail.eecs.berkeley.edu/deeprlcourse/static/homeworks/hw1.pdf.\n",
    "The code base for this file can be found at https://github.com/muthissar/homework."
   ]
  },
  {
   "cell_type": "code",
   "execution_count": 1,
   "metadata": {},
   "outputs": [],
   "source": [
    "%load_ext autoreload\n",
    "%autoreload 2\n",
    "%matplotlib notebook"
   ]
  },
  {
   "cell_type": "code",
   "execution_count": 1,
   "metadata": {},
   "outputs": [],
   "source": [
    "import tensorflow as tf\n",
    "import numpy as np\n",
    "import pandas as pd\n",
    "from behavioral_cloning import *\n",
    "from load_policy import load_policy\n",
    "import matplotlib.pyplot as plt"
   ]
  },
  {
   "cell_type": "markdown",
   "metadata": {},
   "source": [
    "# DAGGER\n",
    "Implimentation of the dagger algorithm. The algoirthm is run on the 'Hopper-v2' task, for which behaviroal cloning failed to perform as well as expert. The setup is as identical to the setup for previous section. The network is identical, the algorithm is initialized with the same number of expert rollouts (20). About 10 iterations is needed to perform as good as the expert. At each iteration 20 rollouts are made, and the return is computed and stored. This is printed in the table below."
   ]
  },
  {
   "cell_type": "code",
   "execution_count": 23,
   "metadata": {},
   "outputs": [
    {
     "name": "stdout",
     "output_type": "stream",
     "text": [
      "obs (1, 11) (1, 11)\n",
      "dagger it 0, mean return 736.0769779547579\n",
      "dagger it 1, mean return 830.7500919300234\n",
      "dagger it 2, mean return 874.0364912999794\n",
      "dagger it 3, mean return 3580.920743705319\n",
      "dagger it 4, mean return 1317.9380580686814\n",
      "dagger it 5, mean return 1334.4896558361386\n",
      "dagger it 6, mean return 3101.087675328911\n",
      "dagger it 7, mean return 3497.9828368728427\n",
      "dagger it 8, mean return 3771.0546427939344\n",
      "dagger it 9, mean return 3621.78699838433\n"
     ]
    }
   ],
   "source": [
    "batch_size = 32\n",
    "expert_rollout = 20\n",
    "dagger_rollout = 20\n",
    "#0 = run until termination\n",
    "max_timesteps = 0\n",
    "use_expert_cache = True\n",
    "store=False\n",
    "training_epochs = 1\n",
    "losses = []\n",
    "\n",
    "from IPython.display import display, clear_output\n",
    "import matplotlib.pyplot as plt\n",
    "\n",
    "tf.reset_default_graph()\n",
    "losses = []\n",
    "\n",
    "it_dagger = 10\n",
    "#tasks = ['Hopper-v2', 'Ant-v2', 'HalfCheetah-v2',\n",
    "# 'Humanoid-v2', 'Reacher-v2','Walker2d-v2']\n",
    "tasks = ['Hopper-v2']\n",
    "results = pd.DataFrame(columns=[])\n",
    "for task in tasks:\n",
    "    tf.reset_default_graph()\n",
    "    with tf.Session() as sess:\n",
    "        expert_policy = load_policy('./experts/{}.pkl'.format(task))\n",
    "        if use_expert_cache:\n",
    "            dataset, expert_returns = get_dataset(\\\n",
    "                './expert_data/{}-{}.pkl'.format(task,expert_rollout))\n",
    "        else:\n",
    "            dataset, expert_returns = get_dataset(\\\n",
    "                envname=task,render=False,\n",
    "                expert_policy_file='experts/'+task+'.pkl'\\\n",
    "                ,max_timesteps=0,num_rollouts=expert_rollout,store=store)\n",
    "        dataset = dataset.map(lambda x, y: (tf.cast(x,tf.float32),y))\n",
    "        obs_dim = dataset.output_shapes[0].as_list()\n",
    "        action_dim = dataset.output_shapes[1].as_list()[1:]\n",
    "        dataset = dataset.repeat(training_epochs)\n",
    "        batched_dataset = dataset.batch(batch_size)\n",
    "        iterator = batched_dataset.make_one_shot_iterator()\n",
    "        next_element = iterator.get_next()\n",
    "        # FNN network\n",
    "        behavioral_net = BehavioralCloningNet(obs_dim, action_dim,\\\n",
    "            batch_size,learning_rate=0.01)\n",
    "        losses = []\n",
    "        returns = []\n",
    "        # object used for interacting with gym environment\n",
    "        evaluate = EvaluateDagger(task,expert_policy,behavioral_net,render=False)\n",
    "        for i in range(it_dagger):\n",
    "            losses += behavioral_net.train(next_element)\n",
    "            evaluate.expert_obs = []\n",
    "            evaluate.expert_actions = []\n",
    "            return_ = evaluate.evaluate(rollouts=dagger_rollout)\n",
    "            print(\"dagger it {}, mean return {}\".format(i,np.mean(return_)))\n",
    "            returns.append(return_)\n",
    "            expert_obs_arr = np.asarray(evaluate.expert_obs,dtype=np.float32)\n",
    "            expert_actions_arr = np.asarray(evaluate.expert_actions,\\\n",
    "                dtype=np.float32)\n",
    "            expert_labeled_new_data = tf.data.Dataset.from_tensor_slices(\\\n",
    "                (expert_obs_arr,expert_actions_arr))\n",
    "            dataset = dataset.concatenate(expert_labeled_new_data)\n",
    "            dataset = dataset.shuffle(buffer_size=10000)\n",
    "            # avoid that the dataset explodes eponentially by having\n",
    "            #a cutoff for which the dataset will then grow linearly.\n",
    "            dataset = dataset.take(1000000)\n",
    "            batched_dataset = dataset.batch(batch_size,True)\n",
    "            iterator = batched_dataset.make_one_shot_iterator()\n",
    "            next_element = iterator.get_next()\n",
    "            results = results.append({'Task': task,\n",
    "                                'mean return': np.mean(return_),\n",
    "                                'std return': np.std(return_),\n",
    "                                'expert mean return': np.mean(expert_returns),\n",
    "                                'expert std return': np.std(expert_returns),\n",
    "                                'expert rollouts': expert_rollout,\n",
    "                                'training epochs': training_epochs,\n",
    "                                'dagger its': i},\n",
    "                                ignore_index=True)\n",
    "#fig = plt.figure()\n",
    "#plt.plot(losses)\n",
    "#plt.xlabel('Batch')\n",
    "#plt.ylabel('Loss (mean square)')\n",
    "#plt.legend(['Train loss {}'.format(task)],loc='upper center')\n",
    "#plt.show(fig)\n",
    "results.to_csv('results_dagger.csv')"
   ]
  },
  {
   "cell_type": "markdown",
   "metadata": {},
   "source": [
    "Possibly run from cached results"
   ]
  },
  {
   "cell_type": "code",
   "execution_count": 2,
   "metadata": {},
   "outputs": [],
   "source": [
    "results = pd.read_csv('results_dagger.csv')"
   ]
  },
  {
   "cell_type": "markdown",
   "metadata": {},
   "source": [
    "## Learning curve\n",
    "Learning curve is plotted for different dagger iterations. Also the experts return is plotted. It is seen at some steps that the variance of the 20 rollouts are high, and that the convergence to the experts return is jumpy."
   ]
  },
  {
   "cell_type": "code",
   "execution_count": 3,
   "metadata": {},
   "outputs": [
    {
     "data": {
      "image/png": "[encoded data removed]",
      "text/plain": [
       "<Figure size 432x288 with 1 Axes>"
      ]
     },
     "metadata": {
      "needs_background": "light"
     },
     "output_type": "display_data"
    }
   ],
   "source": [
    "fig = plt.figure()\n",
    "hopper_data = results[results['Task']=='Hopper-v2']\n",
    "dagger_its = hopper_data['dagger its'].values\n",
    "plt.errorbar(dagger_its,hopper_data['mean return'].values,\\\n",
    "    yerr=[hopper_data['std return'], hopper_data['std return'],], c='blue',fmt='-o',linestyle=\":\")\n",
    "plt.errorbar(dagger_its,hopper_data['expert mean return'].values,\\\n",
    "    yerr=[hopper_data['expert std return'], hopper_data['expert std return']\\\n",
    "    ,], c='red')\n",
    "plt.xlabel(\"Dagger iterations\")\n",
    "plt.ylabel(\"Return\")\n",
    "plt.legend(['Hopper','Hopper expert'])\n",
    "plt.show(fig)"
   ]
  },
  {
   "cell_type": "markdown",
   "metadata": {},
   "source": [
    "%%latex\n",
    "\\lstinputlisting[language=Python]{behavioral_cloning.py}"
   ]
  }
 ],
 "metadata": {
  "file_extension": ".py",
  "kernelspec": {
   "display_name": "Python 3",
   "language": "python",
   "name": "python3"
  },
  "language_info": {
   "codemirror_mode": {
    "name": "ipython",
    "version": 3
   },
   "file_extension": ".py",
   "mimetype": "text/x-python",
   "name": "python",
   "nbconvert_exporter": "python",
   "pygments_lexer": "ipython3",
   "version": "3.6.2"
  },
  "mimetype": "text/x-python",
  "name": "python",
  "npconvert_exporter": "python",
  "pygments_lexer": "ipython3",
  "version": 3
 },
 "nbformat": 4,
 "nbformat_minor": 2
}
